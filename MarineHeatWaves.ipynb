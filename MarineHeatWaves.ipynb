{
 "cells": [
  {
   "cell_type": "code",
   "execution_count": 2,
   "metadata": {},
   "outputs": [],
   "source": [
    "# import packages and define functions\n",
    "import datetime as dt\n",
    "import pandas as pd\n",
    "import xarray as xr\n",
    "from marineHeatWaves import *"
   ]
  },
  {
   "cell_type": "code",
   "execution_count": 4,
   "metadata": {},
   "outputs": [],
   "source": [
    "# must have a file of daily max SST, see 'downloadAndProcessGLORYS.ipynb' and set the variable to temperature\n",
    "\n",
    "# load data and plot percentile\n",
    "with xr.open_dataset('sst_dailyMax.nc') as d:\n",
    "    sst_all = d['sst'].to_numpy() # daily max temp 90th percentile\n",
    "    lon, lat = d['longitude'].to_numpy(), d['latitude'].to_numpy()\n",
    "    time = d['time'].to_numpy()\n",
    "time = np.array(time, dtype='datetime64[D]')\n",
    "where_sea = np.where(~np.isnan(sst_all[0]))\n",
    "timeDate = np.array([dt.datetime.date(t).toordinal() for t in pd.to_datetime(time)])"
   ]
  },
  {
   "cell_type": "code",
   "execution_count": 1,
   "metadata": {},
   "outputs": [
    {
     "data": {
      "text/plain": [
       "\"hws = {}\\nfor i, j in zip(where_sea[0], where_sea[1]):\\n    key = 'lat,lon=' + str(lat[i]) + ',' + str(lon[j])\\n    hws[key] = detect(t=timeDate, temp=sst_all[:,i,j], climatologyPeriod=[1979,2020])\""
      ]
     },
     "execution_count": 1,
     "metadata": {},
     "output_type": "execute_result"
    }
   ],
   "source": [
    "# run the heat wave detection for each grid\n",
    "hws = {}\n",
    "for i, j in zip(where_sea[0], where_sea[1]):\n",
    "    key = 'lat,lon=' + str(lat[i]) + ',' + str(lon[j])\n",
    "    hws[key] = detect(t=timeDate, temp=sst_all[:,i,j], climatologyPeriod=[1979,2020])"
   ]
  }
 ],
 "metadata": {
  "interpreter": {
   "hash": "aee8b7b246df8f9039afb4144a1f6fd8d2ca17a180786b69acc140d282b71a49"
  },
  "kernelspec": {
   "display_name": "Python 3.9.2 64-bit",
   "language": "python",
   "name": "python3"
  },
  "language_info": {
   "codemirror_mode": {
    "name": "ipython",
    "version": 3
   },
   "file_extension": ".py",
   "mimetype": "text/x-python",
   "name": "python",
   "nbconvert_exporter": "python",
   "pygments_lexer": "ipython3",
   "version": "3.10.9 (main, Dec 15 2022, 18:18:30) [Clang 14.0.0 (clang-1400.0.29.202)]"
  },
  "orig_nbformat": 4
 },
 "nbformat": 4,
 "nbformat_minor": 2
}
