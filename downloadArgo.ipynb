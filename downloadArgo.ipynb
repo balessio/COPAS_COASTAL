{
 "cells": [
  {
   "cell_type": "code",
   "execution_count": null,
   "metadata": {},
   "outputs": [],
   "source": [
    "from argopy import DataFetcher as ArgoDataFetcher\n",
    "\n",
    "saveFile = 'ArgoData.nc'\n",
    "\n",
    "left_lon = -100. # leftmost longitude\n",
    "right_lon = -69. # rightmost longitude\n",
    "bottom_lat = -60. # bottom latitude\n",
    "top_lat = 0. # top latitude\n",
    "\n",
    "min_pres = 0 # minimum pressure level (decibar)\n",
    "max_pres = 200 # maximum pressure level (decibar)\n",
    "\n",
    "min_date = '2020-01-01' # early bound on date of data\n",
    "max_date = '2020-01-31' # late bound on date of data\n",
    "\n",
    "dataset = ArgoDataFetcher(\n",
    "    src='argovis', parallel=True, progress=True).region(\n",
    "    [left_lon, right_lon, bottom_lat, top_lat,\n",
    "    min_pres , max_pres, min_date, max_date]).to_xarray()\n",
    "\n",
    "dataset.to_netcdf(saveFile)\n",
    "print('\\nDownload complete.\\n')\n"
   ]
  }
 ],
 "metadata": {
  "language_info": {
   "name": "python"
  },
  "orig_nbformat": 4
 },
 "nbformat": 4,
 "nbformat_minor": 2
}
